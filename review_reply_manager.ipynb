{
 "cells": [
  {
   "cell_type": "code",
   "execution_count": null,
   "id": "3839b6f7",
   "metadata": {},
   "outputs": [
    {
     "data": {
      "text/plain": [
       "True"
      ]
     },
     "execution_count": 1,
     "metadata": {},
     "output_type": "execute_result"
    }
   ],
   "source": [
    "from langgraph.graph import StateGraph, START, END\n",
    "from langchain_groq import ChatGroq\n",
    "from typing import TypedDict, Annotated, Literal\n",
    "from dotenv import load_dotenv\n",
    "from pydantic import BaseModel, Field\n",
    "load_dotenv()"
   ]
  },
  {
   "cell_type": "code",
   "execution_count": 2,
   "id": "9e440f48",
   "metadata": {},
   "outputs": [
    {
     "data": {
      "text/plain": [
       "ChatGroq(client=<groq.resources.chat.completions.Completions object at 0x000001FB68F586D0>, async_client=<groq.resources.chat.completions.AsyncCompletions object at 0x000001FB690A8390>, model_name='openai/gpt-oss-120b', model_kwargs={}, groq_api_key=SecretStr('**********'))"
      ]
     },
     "execution_count": 2,
     "metadata": {},
     "output_type": "execute_result"
    }
   ],
   "source": [
    "model = ChatGroq(model='openai/gpt-oss-120b')\n",
    "model"
   ]
  },
  {
   "cell_type": "code",
   "execution_count": 3,
   "id": "a784e9fe",
   "metadata": {},
   "outputs": [],
   "source": [
    "class SentimentSchema(BaseModel):\n",
    "    sentiment : Literal[\"positive\", \"negative\"] = Field(description=\"Sentiment of the review\")"
   ]
  },
  {
   "cell_type": "code",
   "execution_count": 4,
   "id": "c9ba78a4",
   "metadata": {},
   "outputs": [
    {
     "data": {
      "text/plain": [
       "RunnableBinding(bound=ChatGroq(client=<groq.resources.chat.completions.Completions object at 0x000001FB68F586D0>, async_client=<groq.resources.chat.completions.AsyncCompletions object at 0x000001FB690A8390>, model_name='openai/gpt-oss-120b', model_kwargs={}, groq_api_key=SecretStr('**********')), kwargs={'tools': [{'type': 'function', 'function': {'name': 'SentimentSchema', 'description': '', 'parameters': {'properties': {'sentiment': {'description': 'Sentiment of the review', 'enum': ['positive', 'negative'], 'type': 'string'}}, 'required': ['sentiment'], 'type': 'object'}}}], 'ls_structured_output_format': {'kwargs': {'method': 'function_calling'}, 'schema': {'type': 'function', 'function': {'name': 'SentimentSchema', 'description': '', 'parameters': {'properties': {'sentiment': {'description': 'Sentiment of the review', 'enum': ['positive', 'negative'], 'type': 'string'}}, 'required': ['sentiment'], 'type': 'object'}}}}, 'tool_choice': {'type': 'function', 'function': {'name': 'SentimentSchema'}}}, config={}, config_factories=[])\n",
       "| PydanticToolsParser(first_tool_only=True, tools=[<class '__main__.SentimentSchema'>])"
      ]
     },
     "execution_count": 4,
     "metadata": {},
     "output_type": "execute_result"
    }
   ],
   "source": [
    "structed_model = model.with_structured_output(SentimentSchema)\n",
    "structed_model"
   ]
  },
  {
   "cell_type": "code",
   "execution_count": 5,
   "id": "c35ba03f",
   "metadata": {},
   "outputs": [],
   "source": [
    "class ReviesState(TypedDict):\n",
    "    review : str\n",
    "    sentiment : Literal[\"negative\", \"positive\"]\n",
    "    diagnosis : dict\n",
    "    responses : str\n"
   ]
  },
  {
   "cell_type": "code",
   "execution_count": 6,
   "id": "d5bab202",
   "metadata": {},
   "outputs": [],
   "source": [
    "class DiagnosisSchema(BaseModel):\n",
    "    issue_type: Literal[\"UX\", \"Performance\", \"Bug\", \"Support\", \"Other\"] = Field(description=\"The category of issue mentioned in the review\")\n",
    "    tone: Literal[\"angry\", \"frustrated\", \"disappointed\", \"calm\"] = Field(description=\"The emotional tone expressed by the user\")\n",
    "    urgency: Literal[\"low\", \"medium\", \"high\"] = Field(description=\"How urgent or critical the issue appears to be\")\n"
   ]
  },
  {
   "cell_type": "code",
   "execution_count": 7,
   "id": "a7a98ad8",
   "metadata": {},
   "outputs": [
    {
     "data": {
      "text/plain": [
       "RunnableBinding(bound=ChatGroq(client=<groq.resources.chat.completions.Completions object at 0x000001FB68F586D0>, async_client=<groq.resources.chat.completions.AsyncCompletions object at 0x000001FB690A8390>, model_name='openai/gpt-oss-120b', model_kwargs={}, groq_api_key=SecretStr('**********')), kwargs={'tools': [{'type': 'function', 'function': {'name': 'DiagnosisSchema', 'description': '', 'parameters': {'properties': {'issue_type': {'description': 'The category of issue mentioned in the review', 'enum': ['UX', 'Performance', 'Bug', 'Support', 'Other'], 'type': 'string'}, 'tone': {'description': 'The emotional tone expressed by the user', 'enum': ['angry', 'frustrated', 'disappointed', 'calm'], 'type': 'string'}, 'urgency': {'description': 'How urgent or critical the issue appears to be', 'enum': ['low', 'medium', 'high'], 'type': 'string'}}, 'required': ['issue_type', 'tone', 'urgency'], 'type': 'object'}}}], 'ls_structured_output_format': {'kwargs': {'method': 'function_calling'}, 'schema': {'type': 'function', 'function': {'name': 'DiagnosisSchema', 'description': '', 'parameters': {'properties': {'issue_type': {'description': 'The category of issue mentioned in the review', 'enum': ['UX', 'Performance', 'Bug', 'Support', 'Other'], 'type': 'string'}, 'tone': {'description': 'The emotional tone expressed by the user', 'enum': ['angry', 'frustrated', 'disappointed', 'calm'], 'type': 'string'}, 'urgency': {'description': 'How urgent or critical the issue appears to be', 'enum': ['low', 'medium', 'high'], 'type': 'string'}}, 'required': ['issue_type', 'tone', 'urgency'], 'type': 'object'}}}}, 'tool_choice': {'type': 'function', 'function': {'name': 'DiagnosisSchema'}}}, config={}, config_factories=[])\n",
       "| PydanticToolsParser(first_tool_only=True, tools=[<class '__main__.DiagnosisSchema'>])"
      ]
     },
     "execution_count": 7,
     "metadata": {},
     "output_type": "execute_result"
    }
   ],
   "source": [
    "structed_model2 = model.with_structured_output(DiagnosisSchema)\n",
    "structed_model2"
   ]
  },
  {
   "cell_type": "code",
   "execution_count": 8,
   "id": "23f7130c",
   "metadata": {},
   "outputs": [],
   "source": [
    "def find_sentiment(state : ReviesState):\n",
    "    prompt = f\"for the following review find out the sentiment \\n {state['review']}\"\n",
    "    sentiment = structed_model.invoke(prompt).sentiment\n",
    "    return {'sentiment' : sentiment}"
   ]
  },
  {
   "cell_type": "code",
   "execution_count": 9,
   "id": "3de3be48",
   "metadata": {},
   "outputs": [],
   "source": [
    "def check_sentiment(state : ReviesState) -> Literal[\"positive_responses\", \"run_diagnosis\"]:\n",
    "    if state[\"sentiment\"] == 'positive':\n",
    "        return \"positive_responses\"\n",
    "    else:\n",
    "        return \"run_diagnosis\""
   ]
  },
  {
   "cell_type": "code",
   "execution_count": 10,
   "id": "54aa3d60",
   "metadata": {},
   "outputs": [],
   "source": [
    "def positive_responses(state : ReviesState):\n",
    "    prompt = f\"\"\"Write a warm thank-you message in response to this review:\n",
    "{state['review']}\n",
    "Also, kindly ask the user to leave feedback on our website.\"\"\"\n",
    "    responses = model.invoke(prompt).content\n",
    "    return {'responses' : responses}\n"
   ]
  },
  {
   "cell_type": "code",
   "execution_count": 11,
   "id": "993d95ca",
   "metadata": {},
   "outputs": [],
   "source": [
    "def run_diagnosis(state : ReviesState):\n",
    "    prompt = f\"\"\" \n",
    "Diagnose this negative review: \\n\\n {state['review']}\\n\n",
    "Return issue_type, tone and ungency\n",
    "\"\"\"\n",
    "    responses = structed_model2.invoke(prompt)\n",
    "    return {'diagnosis' : responses.model_dump()}"
   ]
  },
  {
   "cell_type": "code",
   "execution_count": 12,
   "id": "2f07c100",
   "metadata": {},
   "outputs": [],
   "source": [
    "def negative_responses(state : ReviesState):\n",
    "    diagnosis = state['diagnosis']\n",
    "    prompt = f\"\"\"You are a support assistant.\n",
    "The user had a '{diagnosis['issue_type']}' issue, sounded '{diagnosis['tone']}', and marked urgency as '{diagnosis['urgency']}'.\n",
    "Write an empathetic, helpful resolution message.\"\"\"\n",
    "    responses = model.invoke(prompt).content\n",
    "    return {'responses' : responses}\n"
   ]
  },
  {
   "cell_type": "code",
   "execution_count": 13,
   "id": "541fa96d",
   "metadata": {},
   "outputs": [
    {
     "data": {
      "image/png": "[encoded data removed]",
      "text/plain": [
       "<langgraph.graph.state.CompiledStateGraph object at 0x000001FB6A098AD0>"
      ]
     },
     "execution_count": 13,
     "metadata": {},
     "output_type": "execute_result"
    }
   ],
   "source": [
    "graph = StateGraph(ReviesState)\n",
    "graph.add_node('find_sentiment', find_sentiment)\n",
    "graph.add_node('positive_responses', positive_responses)\n",
    "graph.add_node('run_diagnosis', run_diagnosis)\n",
    "graph.add_node('negative_responses', negative_responses)\n",
    "\n",
    "graph.add_edge(START, 'find_sentiment')\n",
    "graph.add_conditional_edges('find_sentiment', check_sentiment)\n",
    "graph.add_edge('positive_responses', END)\n",
    "graph.add_edge('run_diagnosis', 'negative_responses')\n",
    "\n",
    "graph.add_edge('find_sentiment', END)\n",
    "\n",
    "workflow = graph.compile()\n",
    "workflow"
   ]
  },
  {
   "cell_type": "code",
   "execution_count": 14,
   "id": "c10879e8",
   "metadata": {},
   "outputs": [
    {
     "data": {
      "text/plain": [
       "{'review': \"I've been using this app for about a month now, and honestly, the user interface feels clunky and confusing. Nothing is where you'd expect it to be. I kept having to search online just to figure out basic features. It's frustrating when something that should be simple turns into a chore. Really disappointed with the design choices.\",\n",
       " 'sentiment': 'negative',\n",
       " 'diagnosis': {'issue_type': 'UX', 'tone': 'frustrated', 'urgency': 'medium'},\n",
       " 'responses': 'Hi there,\\n\\nI’m really sorry you’re running into a frustrating experience with the product’s user interface. I understand how disruptive that can be, especially when you’re trying to get things done.\\n\\n**Let’s get this sorted out together.**  \\nBelow are a few quick checks that often resolve common UX hiccups. If any of these don’t help, just let me know and we’ll dive deeper.\\n\\n---\\n\\n### 1. Refresh & Clear Cache  \\n- **Refresh the page** (or restart the app).  \\n- **Clear your browser cache** (or app data) – stale files can sometimes cause layout glitches.\\n\\n### 2. Try a Different Browser / Device  \\n- If you’re on a desktop, try Chrome/Firefox/Edge (or the latest version of your preferred browser).  \\n- On mobile, test the same flow in the app and in the mobile web version. This helps us pinpoint whether the issue is device‑specific.\\n\\n### 3. Check for Updates  \\n- Make sure you’re running the latest version of the app or have the most recent web‑app release. Updates often include UI fixes.\\n\\n### 4. Disable Extensions / Add‑ons  \\n- Browser extensions (especially ad‑blockers or theme modifiers) can interfere with UI elements. Temporarily disable them and see if the problem persists.\\n\\n### 5. Capture What You See  \\n- **Screenshot or screen recording** of the problematic screen.  \\n- Note the exact steps you took before the issue appeared (e.g., “Clicked ‘Create New Project’ → …”).  \\n- If there’s an error message, copy the text verbatim.\\n\\n---\\n\\nIf none of the above steps help, could you please share the following?  \\n\\n1. **Device & OS** (e.g., Windows\\u202f11, macOS\\u202f14, iPhone\\u202f15, Android\\u202f13).  \\n2. **Browser & version** (or app version).  \\n3. **Screenshots / screen recordings** of the issue.  \\n4. A brief description of the workflow you were performing when the UI behaved unexpectedly.\\n\\nWith that information I can reproduce the problem on our end and work with our product team to get a fix moving quickly. Because you marked this as medium urgency, I’ll flag it as a priority and keep you updated on progress.\\n\\nThank you for your patience, and again I’m sorry for the inconvenience. I’m here to help, so please let me know the details above or any other way I can assist you further.  \\n\\nBest regards,  \\n[Your Name] – Support Team'}"
      ]
     },
     "execution_count": 14,
     "metadata": {},
     "output_type": "execute_result"
    }
   ],
   "source": [
    "initial_state={'review' : \"I've been using this app for about a month now, and honestly, the user interface feels clunky and confusing. Nothing is where you'd expect it to be. I kept having to search online just to figure out basic features. It's frustrating when something that should be simple turns into a chore. Really disappointed with the design choices.\"}\n",
    "workflow.invoke(initial_state)\n"
   ]
  }
 ],
 "metadata": {
  "kernelspec": {
   "display_name": "Python 3",
   "language": "python",
   "name": "python3"
  },
  "language_info": {
   "codemirror_mode": {
    "name": "ipython",
    "version": 3
   },
   "file_extension": ".py",
   "mimetype": "text/x-python",
   "name": "python",
   "nbconvert_exporter": "python",
   "pygments_lexer": "ipython3",
   "version": "3.11.0"
  }
 },
 "nbformat": 4,
 "nbformat_minor": 5
}
