{
 "cells": [
  {
   "cell_type": "code",
   "execution_count": 1,
   "id": "bf778f2e",
   "metadata": {},
   "outputs": [
    {
     "data": {
      "text/plain": [
       "True"
      ]
     },
     "execution_count": 1,
     "metadata": {},
     "output_type": "execute_result"
    }
   ],
   "source": [
    "from langgraph.graph import StateGraph, START, END\n",
    "from langchain_groq import ChatGroq\n",
    "from typing import TypedDict, Annotated\n",
    "from dotenv import load_dotenv\n",
    "import operator\n",
    "from pydantic import BaseModel, Field\n",
    "load_dotenv()"
   ]
  },
  {
   "cell_type": "code",
   "execution_count": 2,
   "id": "e9b9e6a5",
   "metadata": {},
   "outputs": [
    {
     "data": {
      "text/plain": [
       "ChatGroq(client=<groq.resources.chat.completions.Completions object at 0x0000023A315F8B10>, async_client=<groq.resources.chat.completions.AsyncCompletions object at 0x0000023A31748910>, model_name='openai/gpt-oss-120b', model_kwargs={}, groq_api_key=SecretStr('**********'))"
      ]
     },
     "execution_count": 2,
     "metadata": {},
     "output_type": "execute_result"
    }
   ],
   "source": [
    "model = ChatGroq(model='openai/gpt-oss-120b')\n",
    "model"
   ]
  },
  {
   "cell_type": "code",
   "execution_count": 3,
   "id": "4a03bbb2",
   "metadata": {},
   "outputs": [],
   "source": [
    "class EvaluationSchema(BaseModel):\n",
    "    feedback : str = Field(description='Detailed feedback for the essay')\n",
    "    score : float = Field(description='Score out of 10', gt=0, lt=10)"
   ]
  },
  {
   "cell_type": "code",
   "execution_count": 4,
   "id": "af103320",
   "metadata": {},
   "outputs": [],
   "source": [
    "structured_model = model.with_structured_output(EvaluationSchema)"
   ]
  },
  {
   "cell_type": "code",
   "execution_count": 5,
   "id": "74f61db1",
   "metadata": {},
   "outputs": [],
   "source": [
    "essay = \"\"\" \n",
    "The rise of Artificial Intelligence (AI) is one of the most transformative developments of the 21st century. From voice assistants and recommendation systems to self-driving cars and advanced medical diagnostics, AI has rapidly shifted from theory to everyday reality. Its growth is fueled by vast amounts of data, powerful computing resources, and breakthroughs in machine learning models that can mimic aspects of human reasoning.\n",
    "\n",
    "AI is revolutionizing industries by improving efficiency, automating routine tasks, and uncovering insights once hidden in complex datasets. In healthcare, it aids in detecting diseases earlier and tailoring treatments. In business, it enhances decision-making and customer experiences. Yet, this rise also brings challenges—ethical concerns, job displacement, and questions about accountability.\n",
    "\n",
    "Ultimately, the rise of AI is both exciting and demanding. How society manages its benefits and risks will determine whether it becomes a force for broad progress or deep division.\n",
    "\"\"\""
   ]
  },
  {
   "cell_type": "code",
   "execution_count": 6,
   "id": "ec622c6b",
   "metadata": {},
   "outputs": [],
   "source": [
    "prompt = f\"Evaluate the language quality of the following essay and provide a feedback and assign a score out of 10 \\n {essay}\""
   ]
  },
  {
   "cell_type": "code",
   "execution_count": 7,
   "id": "6a8d04ff",
   "metadata": {},
   "outputs": [
    {
     "data": {
      "text/plain": [
       "8.5"
      ]
     },
     "execution_count": 7,
     "metadata": {},
     "output_type": "execute_result"
    }
   ],
   "source": [
    "structured_model.invoke(prompt).score"
   ]
  },
  {
   "cell_type": "code",
   "execution_count": 8,
   "id": "c27614cf",
   "metadata": {},
   "outputs": [],
   "source": [
    "class UPSCState(TypedDict):\n",
    "\n",
    "    essay               : str\n",
    "    language_feedback   : str\n",
    "    analysis_feedback   : str\n",
    "    clearity_feedback   : str\n",
    "    overall_feedback    : str\n",
    "    individual_score   : Annotated[list[float], operator.add]\n",
    "    avg_score           : float\n",
    "\n"
   ]
  },
  {
   "cell_type": "code",
   "execution_count": 9,
   "id": "7ff991d4",
   "metadata": {},
   "outputs": [],
   "source": [
    "def evaluate_language(state : UPSCState):\n",
    "\n",
    "    prompt = f\"Evaluate the language quality of the following essay and provide a feedback and assign a score out of 10 \\n {state['essay']}\"\n",
    "    output = structured_model.invoke(prompt)\n",
    "    return {'language_feedback' : output.feedback, 'individual_score' : [output.score]}\n"
   ]
  },
  {
   "cell_type": "code",
   "execution_count": 10,
   "id": "fcfc8594",
   "metadata": {},
   "outputs": [],
   "source": [
    "def evaluate_analysis(state : UPSCState):\n",
    "\n",
    "    prompt = f\"Evaluate the depth of analysis of the following essay and provide a feedback and assign a score out of 10 \\n {state['essay']}\"\n",
    "    output = structured_model.invoke(prompt)\n",
    "    return {'analysis_feedback' : output.feedback, 'individual_score' : [output.score]}\n"
   ]
  },
  {
   "cell_type": "code",
   "execution_count": 11,
   "metadata": {},
   "outputs": [],
   "source": [
    "def evaluate_tought(state : UPSCState):\n",
    "\n",
    "    prompt = f\"Evaluate the clearity of thought of the following essay and provide a feedback and assign a score out of 10 \\n {state['essay']}\"\n",
    "    output = structured_model.invoke(prompt)\n",
    "    return {'clearity_feedback' : output.feedback, 'individual_score' : [output.score]}\n"
   ]
  },
  {
   "cell_type": "code",
   "execution_count": 15,
   "id": "f819dc06",
   "metadata": {},
   "outputs": [],
   "source": [
    "def final_evaluation(state : UPSCState):\n",
    "    prompt = f'Based on the following feedbacks create a summarized feedback \\n language feedback - {state[\"language_feedback\"]} \\n depth of analysis feedback - {state[\"analysis_feedback\"]} \\n clarity of thought feedback - {state[\"clearity_feedback\"]}'\n",
    "    overall_feedback = model.invoke(prompt).content\n",
    "\n",
    "    avg_score = sum(state[\"individual_score\"]) / len(state[\"individual_score\"])\n",
    "    return {'overall_feedback':overall_feedback, 'avg_score' : avg_score}"
   ]
  },
  {
   "cell_type": "code",
   "execution_count": 17,
   "id": "37693fdf",
   "metadata": {},
   "outputs": [
    {
     "data": {
      "image/png": "[encoded data removed]",
      "text/plain": [
       "<langgraph.graph.state.CompiledStateGraph object at 0x0000023A331AC950>"
      ]
     },
     "execution_count": 17,
     "metadata": {},
     "output_type": "execute_result"
    }
   ],
   "source": [
    "graph = StateGraph(UPSCState)\n",
    "\n",
    "graph.add_node('evaluate_language'  ,     evaluate_language)\n",
    "graph.add_node('evaluate_analysis'  ,     evaluate_analysis)\n",
    "graph.add_node('evaluate_tought'    ,       evaluate_tought)\n",
    "graph.add_node('final_evaluation'   ,      final_evaluation)\n",
    "\n",
    "graph.add_edge(START, 'evaluate_language')\n",
    "graph.add_edge(START, 'evaluate_analysis')\n",
    "graph.add_edge(START, 'evaluate_tought')\n",
    "\n",
    "graph.add_edge('evaluate_language', 'final_evaluation')\n",
    "graph.add_edge('evaluate_analysis', 'final_evaluation')\n",
    "graph.add_edge('evaluate_tought', 'final_evaluation')\n",
    "\n",
    "graph.add_edge('final_evaluation', END)\n",
    "\n",
    "workflow = graph.compile()\n",
    "graph.compile()"
   ]
  },
  {
   "cell_type": "code",
   "execution_count": 18,
   "id": "f5956f17",
   "metadata": {},
   "outputs": [
    {
     "data": {
      "text/plain": [
       "{'essay': ' \\nThe rise of Artificial Intelligence (AI) is one of the most transformative developments of the 21st century. From voice assistants and recommendation systems to self-driving cars and advanced medical diagnostics, AI has rapidly shifted from theory to everyday reality. Its growth is fueled by vast amounts of data, powerful computing resources, and breakthroughs in machine learning models that can mimic aspects of human reasoning.\\n\\nAI is revolutionizing industries by improving efficiency, automating routine tasks, and uncovering insights once hidden in complex datasets. In healthcare, it aids in detecting diseases earlier and tailoring treatments. In business, it enhances decision-making and customer experiences. Yet, this rise also brings challenges—ethical concerns, job displacement, and questions about accountability.\\n\\nUltimately, the rise of AI is both exciting and demanding. How society manages its benefits and risks will determine whether it becomes a force for broad progress or deep division.\\n',\n",
       " 'language_feedback': 'The essay is concise, well‑structured, and communicates its main ideas clearly. It opens with a strong introductory sentence that situates AI as a transformative 21st‑century development, and it follows with concrete examples (voice assistants, self‑driving cars, medical diagnostics) that illustrate the claim. The body paragraphs are logically ordered: first a brief overview of the technological drivers, then a discussion of AI’s impact across sectors, and finally a mention of the attendant challenges. Transitions between ideas are smooth, and the language is generally precise and free of grammatical errors.\\n\\nStrengths:\\n- Clear thesis and logical progression of ideas.\\n- Effective use of specific examples to support abstract claims.\\n- Balanced treatment of benefits and risks, ending with a thought‑provoking concluding sentence.\\n- Consistent academic tone and appropriate vocabulary (e.g., “transformative,” “mimic aspects of human reasoning,” “ethical concerns”).\\n\\nAreas for improvement:\\n- The essay could benefit from a bit more depth; each sector (healthcare, business) is mentioned only briefly. Adding a sentence or two with concrete data or a specific case study would strengthen the argument.\\n- The concluding paragraph could be expanded to suggest concrete ways society might manage AI’s risks, rather than leaving it as a rhetorical question.\\n- Minor stylistic variation (e.g., varying sentence length) would enhance readability and keep the reader more engaged.\\n\\nOverall, the piece demonstrates strong command of language, coherence, and relevance, with only minor opportunities for enrichment.',\n",
       " 'analysis_feedback': 'The essay provides a broad overview of AI’s emergence and its societal implications, but its analysis remains superficial. It correctly identifies key domains (healthcare, business) and mentions drivers (data, compute, ML breakthroughs) and challenges (ethics, job loss, accountability). However, it lacks depth in several areas: \\n1. No specific examples or evidence are offered to substantiate claims (e.g., how AI improves efficiency or detects disease). \\n2. The discussion of ethical concerns is vague; it does not explore issues such as bias, privacy, or governance frameworks. \\n3. The essay does not examine the interplay between technological capability and policy or economic factors, missing an opportunity for nuanced insight. \\n4. The conclusion restates the dilemma without proposing concrete strategies or reflecting on historical precedents. \\nOverall, the piece reads more like a summary than a critical analysis. To improve, the writer should incorporate concrete case studies, delve into the root causes of challenges, and suggest actionable approaches for managing AI’s impact.\\n\\nScore: 5/10 – adequate coverage of topics but limited analytical depth and insufficient supporting detail.',\n",
       " 'clearity_feedback': 'The essay presents a clear, logical progression of ideas about the rise of AI. It starts with a broad statement of AI’s significance, moves to concrete examples of its applications, outlines the drivers of its growth, and then discusses both benefits and challenges before concluding with a forward‑looking statement. The sentences are concise and well‑structured, making the main points easy to follow. However, the essay could improve clarity by providing a bit more depth or specific evidence for each claim (e.g., naming particular AI systems or studies) and by linking the challenges more directly to the earlier examples. Additionally, a brief transition sentence between the discussion of industry impacts and the ethical concerns would tighten the flow. Overall, the thought is coherent and organized, but a little more elaboration and smoother transitions would raise the clarity further.',\n",
       " 'overall_feedback': '**Summarized Feedback**\\n\\n**Strengths**  \\n- **Clear structure & thesis:** The essay opens with a strong introductory claim about AI’s transformative role and follows a logical progression (drivers → sector impacts → challenges).  \\n- **Effective examples:** Concrete illustrations (voice assistants, self‑driving cars, medical diagnostics) help ground abstract ideas.  \\n- **Balanced perspective:** Benefits and risks are both addressed, ending with a thought‑provoking conclusion.  \\n- **Academic tone & vocabulary:** Consistent use of appropriate terminology (“transformative,” “ethical concerns,” etc.) and generally precise language with few grammatical errors.  \\n- **Logical flow:** Transitions between paragraphs are smooth, making the overall argument easy to follow.\\n\\n**Areas for Improvement**  \\n\\n| Aspect | What’s missing / weak | How to strengthen it |\\n|--------|----------------------|----------------------|\\n| **Depth of analysis** | – Claims lack supporting data or case studies (e.g., how AI improves efficiency or detects disease).<br>– Ethical discussion is vague (no mention of bias, privacy, governance).<br>– No exploration of the interaction between technology, policy, and economics.<br>– Conclusion restates the dilemma without actionable recommendations. | • Insert specific statistics, studies, or real‑world examples for each sector (e.g., IBM Watson Oncology outcomes, Amazon’s AI‑driven logistics savings).<br>• Expand the ethics section to cover bias mitigation, data privacy regulations, and existing governance frameworks.<br>• Discuss how policy or market forces shape AI adoption (e.g., investment trends, regulatory sandboxes).<br>• End with concrete strategies (e.g., interdisciplinary oversight boards, upskilling programs) or historical parallels. |\\n| **Clarity & cohesion** | – Limited depth reduces the persuasive power of each point.<br>– Transitions between industry impacts and ethical concerns could be tighter. | • Add a brief linking sentence that ties the sector examples directly to the emerging ethical issues (e.g., “The same algorithms that power autonomous vehicles also raise questions about liability and bias”). |\\n| **Stylistic variety** | – Sentence length and structure are fairly uniform, which can affect reader engagement. | • Vary sentence patterns (mix short, punchy statements with longer, explanatory ones) to improve rhythm and keep the reader’s interest. |\\n| **Conclusion** | – Ends with a rhetorical question rather than concrete next steps. | • Expand the final paragraph to propose specific ways society can manage AI’s risks (regulatory frameworks, ethical guidelines, public‑private partnerships). |\\n\\n**Overall Assessment**  \\nThe essay demonstrates strong command of language, coherent organization, and a balanced overview of AI’s promise and perils. However, it remains at a descriptive level rather than a critical analysis. Adding concrete evidence, deeper ethical exploration, and actionable recommendations will raise both the analytical depth and the persuasive impact.\\n\\n**Suggested Rating:** ~5/10 (adequate coverage but limited depth). Aim for a higher score by incorporating the improvements above.',\n",
       " 'individual_score': [5.0, 8.0, 8.0],\n",
       " 'avg_score': 7.0}"
      ]
     },
     "execution_count": 18,
     "metadata": {},
     "output_type": "execute_result"
    }
   ],
   "source": [
    "initial_state = {'essay' : essay}\n",
    "final_state = workflow.invoke(initial_state)\n",
    "final_state"
   ]
  },
  {
   "cell_type": "code",
   "execution_count": null,
   "id": "2fb3d6f3",
   "metadata": {},
   "outputs": [],
   "source": []
  },
  {
   "cell_type": "code",
   "execution_count": null,
   "id": "1b702b9d",
   "metadata": {},
   "outputs": [],
   "source": []
  },
  {
   "cell_type": "code",
   "execution_count": null,
   "id": "782ffb13",
   "metadata": {},
   "outputs": [],
   "source": []
  }
 ],
 "metadata": {
  "kernelspec": {
   "display_name": "Python 3",
   "language": "python",
   "name": "python3"
  },
  "language_info": {
   "codemirror_mode": {
    "name": "ipython",
    "version": 3
   },
   "file_extension": ".py",
   "mimetype": "text/x-python",
   "name": "python",
   "nbconvert_exporter": "python",
   "pygments_lexer": "ipython3",
   "version": "3.11.0"
  }
 },
 "nbformat": 4,
 "nbformat_minor": 5
}
